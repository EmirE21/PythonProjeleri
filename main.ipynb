{
  "nbformat": 4,
  "nbformat_minor": 0,
  "metadata": {
    "colab": {
      "provenance": [],
      "authorship_tag": "ABX9TyPjqn1meYAUbn6biv9g6Z1j",
      "include_colab_link": true
    },
    "kernelspec": {
      "name": "python3",
      "display_name": "Python 3"
    },
    "language_info": {
      "name": "python"
    }
  },
  "cells": [
    {
      "cell_type": "markdown",
      "metadata": {
        "id": "view-in-github",
        "colab_type": "text"
      },
      "source": [
        "<a href=\"https://colab.research.google.com/github/EmirE21/PythonProjeleri/blob/main/main.ipynb\" target=\"_parent\"><img src=\"https://colab.research.google.com/assets/colab-badge.svg\" alt=\"Open In Colab\"/></a>"
      ]
    },
    {
      "cell_type": "code",
      "metadata": {
        "id": "e7375c84"
      },
      "source": [
        "# Random modülü çağrılır.\n",
        "import random\n",
        "# Oyunun fonksiyonu tanımlanır.\n",
        "def game(game_len):\n",
        "  try:\n",
        "    # Temel parametreler açıklanır.\n",
        "    player_score = 0\n",
        "    pc_score = 0\n",
        "    choices = [\"taş\", \"kağıt\", \"makas\"]\n",
        "    # Oyundaki ihtimaller sözlükte tutulur.\n",
        "    wins = {\n",
        "        (\"taş\", \"makas\"): \"player\",\n",
        "        (\"kağıt\", \"taş\"): \"player\",\n",
        "        (\"makas\", \"kağıt\"): \"player\",\n",
        "        (\"taş\", \"kağıt\"): \"pc\",\n",
        "        (\"kağıt\", \"makas\"): \"pc\",\n",
        "        (\"makas\", \"taş\"): \"pc\",\n",
        "    }\n",
        "    # Döngü ile oyun, istenen tur sayısı kadar gerçekleştirilir.\n",
        "    for i in range(game_len):\n",
        "      print(f\"--- TUR {i+1} ---\")\n",
        "      # Oyuncu ve bilgisayarın seçeneği alınır.\n",
        "      player_choice = input(\"Lütfen seçeneğinizi girin: \").lower()\n",
        "      pc_choice = random.choice(choices)\n",
        "      print(f\"Bilgisayar: {pc_choice}\")\n",
        "      if player_choice not in choices:\n",
        "        raise ValueError(\"Yanlış değer girdin, lütfen tekrar dene!\")\n",
        "      # Skorun nasıl hesaplanacağı tanımlanır.\n",
        "      if player_choice == pc_choice:\n",
        "        print(\"Berabere!\")\n",
        "      else:\n",
        "        winner = wins[(player_choice, pc_choice)]\n",
        "        if winner == \"player\":\n",
        "          player_score += 1\n",
        "          print(\"Sen kazandın!\")\n",
        "        else:\n",
        "          pc_score += 1\n",
        "          print(\"Bilgisayar kazandı!\")\n",
        "  except ValueError as ve:\n",
        "    print(f\"Hata! {ve}\")\n",
        "  print(f\"Toplam Skor: Oyuncu - {player_score}, Bilgisayar - {pc_score}\")\n",
        "  return print(\"Tebrikler kazandın!\") if player_score > pc_score else print(\"Berabere!\") if player_score == pc_score else print(\"Maalesef kaybettin!\")\n",
        "# Oyunun tur sayısı belirlenir.\n",
        "game_len = int(input(\"Oyunun kaç tur olacağını girin?: \"))\n",
        "# Fonksiyon çalıştırlır.\n",
        "game(game_len)"
      ],
      "execution_count": null,
      "outputs": []
    }
  ]
}