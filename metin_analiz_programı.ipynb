{
  "nbformat": 4,
  "nbformat_minor": 0,
  "metadata": {
    "colab": {
      "provenance": [],
      "authorship_tag": "ABX9TyPoyXGebvcwR38DQECD1tx3",
      "include_colab_link": true
    },
    "kernelspec": {
      "name": "python3",
      "display_name": "Python 3"
    },
    "language_info": {
      "name": "python"
    }
  },
  "cells": [
    {
      "cell_type": "markdown",
      "metadata": {
        "id": "view-in-github",
        "colab_type": "text"
      },
      "source": [
        "<a href=\"https://colab.research.google.com/github/EmirE21/PythonProjeleri/blob/main/metin_analiz_program%C4%B1.ipynb\" target=\"_parent\"><img src=\"https://colab.research.google.com/assets/colab-badge.svg\" alt=\"Open In Colab\"/></a>"
      ]
    },
    {
      "cell_type": "code",
      "metadata": {
        "id": "e7375c84"
      },
      "source": [
        "# Ana Metin\n",
        "text1 = input(\"Lütfen bir metin girin: \")\n",
        "# Cümle Sayısı\n",
        "sentences = text1.count(\".\") + text1.count(\"!\") + text1.count(\"?\") + text1.count(\"...\")\n",
        "#Kelime Sayısı\n",
        "text2 = text1.split()\n",
        "#Harflerin Sayıları\n",
        "letter_dict = {}\n",
        "for word in text1:\n",
        "  if word.isalpha():\n",
        "    word = word.lower()\n",
        "    letter_dict[word] = letter_dict.get(word, 0) + 1\n",
        "sorted_letter_dict = {key: letter_dict[key] for key in sorted(letter_dict.keys())}\n",
        "# Tüm Bilgilerin Depolandığı Sözlük\n",
        "general_info = {\n",
        "    \"Cümle sayısı\": sentences,\n",
        "    \"Kelime sayısı\": len(text2),\n",
        "    \"Harflerin sayıları\": sorted_letter_dict\n",
        "}\n",
        "print(general_info)"
      ],
      "execution_count": null,
      "outputs": []
    },
    {
      "cell_type": "markdown",
      "source": [
        "1. Kullanıcıdan metin al\n",
        "2. Kelime sayısı hesapla:\n",
        "   - split() fonksiyonu ile böl\n",
        "   - Liste uzunluğunu al\n",
        "3. Cümle sayısı hesapla:\n",
        "   - Her karakter için kontrol et\n",
        "   - Eğer '.', '!', '?' ise sayacı artır\n",
        "4. Harf sayısı hesapla:\n",
        "   - Boş bir sözlük oluştur\n",
        "   - Her karakter için:\n",
        "     - Eğer harf ise sözlükte say\n",
        "     - Türkçe karakterleri de dahil et\n",
        "5. Sonuçları yazdır"
      ],
      "metadata": {
        "id": "cozcDpFS0aYl"
      }
    }
  ]
}