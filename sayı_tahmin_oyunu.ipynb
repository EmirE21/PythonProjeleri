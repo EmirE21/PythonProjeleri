{
  "nbformat": 4,
  "nbformat_minor": 0,
  "metadata": {
    "colab": {
      "provenance": [],
      "authorship_tag": "ABX9TyMMww0rJu5pH3zaf+yPt+Eh",
      "include_colab_link": true
    },
    "kernelspec": {
      "name": "python3",
      "display_name": "Python 3"
    },
    "language_info": {
      "name": "python"
    }
  },
  "cells": [
    {
      "cell_type": "markdown",
      "metadata": {
        "id": "view-in-github",
        "colab_type": "text"
      },
      "source": [
        "<a href=\"https://colab.research.google.com/github/EmirE21/PythonProjeleri/blob/main/say%C4%B1_tahmin_oyunu.ipynb\" target=\"_parent\"><img src=\"https://colab.research.google.com/assets/colab-badge.svg\" alt=\"Open In Colab\"/></a>"
      ]
    },
    {
      "cell_type": "code",
      "execution_count": null,
      "metadata": {
        "id": "f_tiF1jr8s4H"
      },
      "outputs": [],
      "source": [
        "from random import *\n",
        "\n",
        "def sayı_tahmini(tahmin):\n",
        "  for i in range(1):\n",
        "    sayı = randint(1, 100)\n",
        "\n",
        "  tahmin_listesi = [tahmin]\n",
        "\n",
        "  while tahmin != sayı:\n",
        "    if tahmin > sayı:\n",
        "      tahmin = int(input(\"Daha küçük bir sayı girin: \"))\n",
        "      tahmin_listesi.append(tahmin)\n",
        "    elif tahmin < sayı:\n",
        "      tahmin = int(input(\"Daha büyük bir sayı girin: \"))\n",
        "      tahmin_listesi.append(tahmin)\n",
        "  if tahmin == sayı:\n",
        "    print(\"Tebrikler! Tahmininiz doğru.\")\n",
        "    print(f\"Oyunu {len(tahmin_listesi)} denemede bitirdiniz!\")\n",
        "\n",
        "tahmin = int(input(\"Lütfen bir sayı girin: \"))\n",
        "sayı_tahmini(tahmin)"
      ]
    }
  ]
}